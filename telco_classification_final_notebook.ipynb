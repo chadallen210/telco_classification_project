{
 "cells": [
  {
   "cell_type": "markdown",
   "metadata": {},
   "source": [
    "# TelCo Churn Classification Project\n",
    "\n",
    "###### Chad Allen\n",
    "###### 01 June 2021"
   ]
  },
  {
   "cell_type": "markdown",
   "metadata": {},
   "source": [
    "## Project Planning\n",
    "\n",
    "- create a README file with project and business goals, a data dictionary, ideas and hypotheses, and how to recreate the project\n",
    "- acquire the data, create a function(s) to automate the process, create acquire.py file containing the function(s), import and utilize the automated processes in the final notebook\n",
    "- clean and prepare the data, create a function(s) to automate the process, create a prepare.py file containing the function(s), import and utilize the automated processes in the final notebook\n",
    "- create visuals of variable distributions, create hypotheses, run statistical tests, reject or fail to reject null hypotheses, and document findings and takeaways\n",
    "- establish baseline predictions, create, fit and evaluate models on the train and validate datasets, document findings and takeaways\n",
    "- choose the best model to and evaluate on the test dataset, document conclusions, takeaways, and recommendations\n",
    "- create a predictions.csv with customer_id, probability of churn, and predictions"
   ]
  },
  {
   "cell_type": "markdown",
   "metadata": {},
   "source": [
    "## Executive Summary - Conclusions and Next Steps\n",
    "\n",
    "- using the combination of the top 6 variables by correlation created well-fit models\n",
    "- logistic regression was the best fit model with 79.18% accuracy on the test dataset\n",
    "- best model was able outperform the baseline by almost 6%\n",
    "- with more time, exploring additional features and adjustments to hyperparameters could improve results even further"
   ]
  },
  {
   "cell_type": "code",
   "execution_count": null,
   "metadata": {},
   "outputs": [],
   "source": []
  },
  {
   "cell_type": "code",
   "execution_count": 15,
   "metadata": {},
   "outputs": [],
   "source": [
    "import pandas as pd\n",
    "import numpy as np\n",
    "from scipy import stats\n",
    "import os\n",
    "\n",
    "import seaborn as sns\n",
    "import matplotlib.pyplot as plt\n",
    "\n",
    "from sklearn.dummy import DummyClassifier\n",
    "from sklearn.ensemble import RandomForestClassifier\n",
    "from sklearn.linear_model import LogisticRegression\n",
    "from sklearn.metrics import classification_report\n",
    "from sklearn.metrics import confusion_matrix\n",
    "from sklearn.metrics import precision_score\n",
    "from sklearn.metrics import accuracy_score\n",
    "from sklearn.metrics import recall_score\n",
    "from sklearn.metrics import f1_score\n",
    "from sklearn.metrics import precision_recall_fscore_support\n",
    "from sklearn.model_selection import train_test_split\n",
    "from sklearn.tree import DecisionTreeClassifier, plot_tree, export_text\n",
    "\n",
    "from acquire import get_telco_data\n",
    "from prepare import telco_prep, telco_split\n",
    "from explore import explore_bivariate\n",
    "\n",
    "import warnings\n",
    "warnings.filterwarnings(\"ignore\")"
   ]
  },
  {
   "cell_type": "markdown",
   "metadata": {},
   "source": [
    "## Acquire the TelCo data\n",
    "\n",
    "#### Bring in the data from a SQL database, put it into a DataFame, and then get to know the data"
   ]
  },
  {
   "cell_type": "code",
   "execution_count": 2,
   "metadata": {},
   "outputs": [
    {
     "data": {
      "text/html": [
       "<div>\n",
       "<style scoped>\n",
       "    .dataframe tbody tr th:only-of-type {\n",
       "        vertical-align: middle;\n",
       "    }\n",
       "\n",
       "    .dataframe tbody tr th {\n",
       "        vertical-align: top;\n",
       "    }\n",
       "\n",
       "    .dataframe thead th {\n",
       "        text-align: right;\n",
       "    }\n",
       "</style>\n",
       "<table border=\"1\" class=\"dataframe\">\n",
       "  <thead>\n",
       "    <tr style=\"text-align: right;\">\n",
       "      <th></th>\n",
       "      <th>0</th>\n",
       "      <th>1</th>\n",
       "      <th>2</th>\n",
       "      <th>3</th>\n",
       "      <th>4</th>\n",
       "    </tr>\n",
       "  </thead>\n",
       "  <tbody>\n",
       "    <tr>\n",
       "      <th>payment_type_id</th>\n",
       "      <td>2</td>\n",
       "      <td>4</td>\n",
       "      <td>3</td>\n",
       "      <td>4</td>\n",
       "      <td>3</td>\n",
       "    </tr>\n",
       "    <tr>\n",
       "      <th>internet_service_type_id</th>\n",
       "      <td>1</td>\n",
       "      <td>1</td>\n",
       "      <td>1</td>\n",
       "      <td>1</td>\n",
       "      <td>1</td>\n",
       "    </tr>\n",
       "    <tr>\n",
       "      <th>contract_type_id</th>\n",
       "      <td>3</td>\n",
       "      <td>3</td>\n",
       "      <td>3</td>\n",
       "      <td>3</td>\n",
       "      <td>3</td>\n",
       "    </tr>\n",
       "    <tr>\n",
       "      <th>customer_id</th>\n",
       "      <td>0016-QLJIS</td>\n",
       "      <td>0017-DINOC</td>\n",
       "      <td>0019-GFNTW</td>\n",
       "      <td>0056-EPFBG</td>\n",
       "      <td>0078-XZMHT</td>\n",
       "    </tr>\n",
       "    <tr>\n",
       "      <th>gender</th>\n",
       "      <td>Female</td>\n",
       "      <td>Male</td>\n",
       "      <td>Female</td>\n",
       "      <td>Male</td>\n",
       "      <td>Male</td>\n",
       "    </tr>\n",
       "    <tr>\n",
       "      <th>senior_citizen</th>\n",
       "      <td>0</td>\n",
       "      <td>0</td>\n",
       "      <td>0</td>\n",
       "      <td>0</td>\n",
       "      <td>0</td>\n",
       "    </tr>\n",
       "    <tr>\n",
       "      <th>partner</th>\n",
       "      <td>Yes</td>\n",
       "      <td>No</td>\n",
       "      <td>No</td>\n",
       "      <td>Yes</td>\n",
       "      <td>Yes</td>\n",
       "    </tr>\n",
       "    <tr>\n",
       "      <th>dependents</th>\n",
       "      <td>Yes</td>\n",
       "      <td>No</td>\n",
       "      <td>No</td>\n",
       "      <td>Yes</td>\n",
       "      <td>No</td>\n",
       "    </tr>\n",
       "    <tr>\n",
       "      <th>tenure</th>\n",
       "      <td>65</td>\n",
       "      <td>54</td>\n",
       "      <td>56</td>\n",
       "      <td>20</td>\n",
       "      <td>72</td>\n",
       "    </tr>\n",
       "    <tr>\n",
       "      <th>phone_service</th>\n",
       "      <td>Yes</td>\n",
       "      <td>No</td>\n",
       "      <td>No</td>\n",
       "      <td>No</td>\n",
       "      <td>Yes</td>\n",
       "    </tr>\n",
       "    <tr>\n",
       "      <th>multiple_lines</th>\n",
       "      <td>Yes</td>\n",
       "      <td>No phone service</td>\n",
       "      <td>No phone service</td>\n",
       "      <td>No phone service</td>\n",
       "      <td>Yes</td>\n",
       "    </tr>\n",
       "    <tr>\n",
       "      <th>online_security</th>\n",
       "      <td>Yes</td>\n",
       "      <td>Yes</td>\n",
       "      <td>Yes</td>\n",
       "      <td>Yes</td>\n",
       "      <td>No</td>\n",
       "    </tr>\n",
       "    <tr>\n",
       "      <th>online_backup</th>\n",
       "      <td>Yes</td>\n",
       "      <td>No</td>\n",
       "      <td>Yes</td>\n",
       "      <td>No</td>\n",
       "      <td>Yes</td>\n",
       "    </tr>\n",
       "    <tr>\n",
       "      <th>device_protection</th>\n",
       "      <td>Yes</td>\n",
       "      <td>No</td>\n",
       "      <td>Yes</td>\n",
       "      <td>Yes</td>\n",
       "      <td>Yes</td>\n",
       "    </tr>\n",
       "    <tr>\n",
       "      <th>tech_support</th>\n",
       "      <td>Yes</td>\n",
       "      <td>Yes</td>\n",
       "      <td>Yes</td>\n",
       "      <td>Yes</td>\n",
       "      <td>Yes</td>\n",
       "    </tr>\n",
       "    <tr>\n",
       "      <th>streaming_tv</th>\n",
       "      <td>Yes</td>\n",
       "      <td>Yes</td>\n",
       "      <td>No</td>\n",
       "      <td>No</td>\n",
       "      <td>Yes</td>\n",
       "    </tr>\n",
       "    <tr>\n",
       "      <th>streaming_movies</th>\n",
       "      <td>Yes</td>\n",
       "      <td>No</td>\n",
       "      <td>No</td>\n",
       "      <td>No</td>\n",
       "      <td>Yes</td>\n",
       "    </tr>\n",
       "    <tr>\n",
       "      <th>paperless_billing</th>\n",
       "      <td>Yes</td>\n",
       "      <td>No</td>\n",
       "      <td>No</td>\n",
       "      <td>Yes</td>\n",
       "      <td>Yes</td>\n",
       "    </tr>\n",
       "    <tr>\n",
       "      <th>monthly_charges</th>\n",
       "      <td>90.45</td>\n",
       "      <td>45.2</td>\n",
       "      <td>45.05</td>\n",
       "      <td>39.4</td>\n",
       "      <td>85.15</td>\n",
       "    </tr>\n",
       "    <tr>\n",
       "      <th>total_charges</th>\n",
       "      <td>5957.9</td>\n",
       "      <td>2460.55</td>\n",
       "      <td>2560.1</td>\n",
       "      <td>825.4</td>\n",
       "      <td>6316.2</td>\n",
       "    </tr>\n",
       "    <tr>\n",
       "      <th>churn</th>\n",
       "      <td>No</td>\n",
       "      <td>No</td>\n",
       "      <td>No</td>\n",
       "      <td>No</td>\n",
       "      <td>No</td>\n",
       "    </tr>\n",
       "    <tr>\n",
       "      <th>contract_type</th>\n",
       "      <td>Two year</td>\n",
       "      <td>Two year</td>\n",
       "      <td>Two year</td>\n",
       "      <td>Two year</td>\n",
       "      <td>Two year</td>\n",
       "    </tr>\n",
       "    <tr>\n",
       "      <th>internet_service_type</th>\n",
       "      <td>DSL</td>\n",
       "      <td>DSL</td>\n",
       "      <td>DSL</td>\n",
       "      <td>DSL</td>\n",
       "      <td>DSL</td>\n",
       "    </tr>\n",
       "    <tr>\n",
       "      <th>payment_type</th>\n",
       "      <td>Mailed check</td>\n",
       "      <td>Credit card (automatic)</td>\n",
       "      <td>Bank transfer (automatic)</td>\n",
       "      <td>Credit card (automatic)</td>\n",
       "      <td>Bank transfer (automatic)</td>\n",
       "    </tr>\n",
       "  </tbody>\n",
       "</table>\n",
       "</div>"
      ],
      "text/plain": [
       "                                     0                        1  \\\n",
       "payment_type_id                      2                        4   \n",
       "internet_service_type_id             1                        1   \n",
       "contract_type_id                     3                        3   \n",
       "customer_id                 0016-QLJIS               0017-DINOC   \n",
       "gender                          Female                     Male   \n",
       "senior_citizen                       0                        0   \n",
       "partner                            Yes                       No   \n",
       "dependents                         Yes                       No   \n",
       "tenure                              65                       54   \n",
       "phone_service                      Yes                       No   \n",
       "multiple_lines                     Yes         No phone service   \n",
       "online_security                    Yes                      Yes   \n",
       "online_backup                      Yes                       No   \n",
       "device_protection                  Yes                       No   \n",
       "tech_support                       Yes                      Yes   \n",
       "streaming_tv                       Yes                      Yes   \n",
       "streaming_movies                   Yes                       No   \n",
       "paperless_billing                  Yes                       No   \n",
       "monthly_charges                  90.45                     45.2   \n",
       "total_charges                   5957.9                  2460.55   \n",
       "churn                               No                       No   \n",
       "contract_type                 Two year                 Two year   \n",
       "internet_service_type              DSL                      DSL   \n",
       "payment_type              Mailed check  Credit card (automatic)   \n",
       "\n",
       "                                                  2                        3  \\\n",
       "payment_type_id                                   3                        4   \n",
       "internet_service_type_id                          1                        1   \n",
       "contract_type_id                                  3                        3   \n",
       "customer_id                              0019-GFNTW               0056-EPFBG   \n",
       "gender                                       Female                     Male   \n",
       "senior_citizen                                    0                        0   \n",
       "partner                                          No                      Yes   \n",
       "dependents                                       No                      Yes   \n",
       "tenure                                           56                       20   \n",
       "phone_service                                    No                       No   \n",
       "multiple_lines                     No phone service         No phone service   \n",
       "online_security                                 Yes                      Yes   \n",
       "online_backup                                   Yes                       No   \n",
       "device_protection                               Yes                      Yes   \n",
       "tech_support                                    Yes                      Yes   \n",
       "streaming_tv                                     No                       No   \n",
       "streaming_movies                                 No                       No   \n",
       "paperless_billing                                No                      Yes   \n",
       "monthly_charges                               45.05                     39.4   \n",
       "total_charges                                2560.1                    825.4   \n",
       "churn                                            No                       No   \n",
       "contract_type                              Two year                 Two year   \n",
       "internet_service_type                           DSL                      DSL   \n",
       "payment_type              Bank transfer (automatic)  Credit card (automatic)   \n",
       "\n",
       "                                                  4  \n",
       "payment_type_id                                   3  \n",
       "internet_service_type_id                          1  \n",
       "contract_type_id                                  3  \n",
       "customer_id                              0078-XZMHT  \n",
       "gender                                         Male  \n",
       "senior_citizen                                    0  \n",
       "partner                                         Yes  \n",
       "dependents                                       No  \n",
       "tenure                                           72  \n",
       "phone_service                                   Yes  \n",
       "multiple_lines                                  Yes  \n",
       "online_security                                  No  \n",
       "online_backup                                   Yes  \n",
       "device_protection                               Yes  \n",
       "tech_support                                    Yes  \n",
       "streaming_tv                                    Yes  \n",
       "streaming_movies                                Yes  \n",
       "paperless_billing                               Yes  \n",
       "monthly_charges                               85.15  \n",
       "total_charges                                6316.2  \n",
       "churn                                            No  \n",
       "contract_type                              Two year  \n",
       "internet_service_type                           DSL  \n",
       "payment_type              Bank transfer (automatic)  "
      ]
     },
     "execution_count": 2,
     "metadata": {},
     "output_type": "execute_result"
    }
   ],
   "source": [
    "# use imported function to acquire the data, then take a quick look at columns and values\n",
    "telcodf = get_telco_data()\n",
    "telcodf.head().T"
   ]
  },
  {
   "cell_type": "code",
   "execution_count": 3,
   "metadata": {},
   "outputs": [
    {
     "data": {
      "text/plain": [
       "(7043, 24)"
      ]
     },
     "execution_count": 3,
     "metadata": {},
     "output_type": "execute_result"
    }
   ],
   "source": [
    "# how many rows and columns\n",
    "telcodf.shape"
   ]
  },
  {
   "cell_type": "code",
   "execution_count": 4,
   "metadata": {},
   "outputs": [
    {
     "data": {
      "text/html": [
       "<div>\n",
       "<style scoped>\n",
       "    .dataframe tbody tr th:only-of-type {\n",
       "        vertical-align: middle;\n",
       "    }\n",
       "\n",
       "    .dataframe tbody tr th {\n",
       "        vertical-align: top;\n",
       "    }\n",
       "\n",
       "    .dataframe thead th {\n",
       "        text-align: right;\n",
       "    }\n",
       "</style>\n",
       "<table border=\"1\" class=\"dataframe\">\n",
       "  <thead>\n",
       "    <tr style=\"text-align: right;\">\n",
       "      <th></th>\n",
       "      <th>count</th>\n",
       "      <th>mean</th>\n",
       "      <th>std</th>\n",
       "      <th>min</th>\n",
       "      <th>25%</th>\n",
       "      <th>50%</th>\n",
       "      <th>75%</th>\n",
       "      <th>max</th>\n",
       "    </tr>\n",
       "  </thead>\n",
       "  <tbody>\n",
       "    <tr>\n",
       "      <th>payment_type_id</th>\n",
       "      <td>7043.0</td>\n",
       "      <td>2.315633</td>\n",
       "      <td>1.148907</td>\n",
       "      <td>1.00</td>\n",
       "      <td>1.0</td>\n",
       "      <td>2.00</td>\n",
       "      <td>3.00</td>\n",
       "      <td>4.00</td>\n",
       "    </tr>\n",
       "    <tr>\n",
       "      <th>internet_service_type_id</th>\n",
       "      <td>7043.0</td>\n",
       "      <td>1.872923</td>\n",
       "      <td>0.737796</td>\n",
       "      <td>1.00</td>\n",
       "      <td>1.0</td>\n",
       "      <td>2.00</td>\n",
       "      <td>2.00</td>\n",
       "      <td>3.00</td>\n",
       "    </tr>\n",
       "    <tr>\n",
       "      <th>contract_type_id</th>\n",
       "      <td>7043.0</td>\n",
       "      <td>1.690473</td>\n",
       "      <td>0.833755</td>\n",
       "      <td>1.00</td>\n",
       "      <td>1.0</td>\n",
       "      <td>1.00</td>\n",
       "      <td>2.00</td>\n",
       "      <td>3.00</td>\n",
       "    </tr>\n",
       "    <tr>\n",
       "      <th>senior_citizen</th>\n",
       "      <td>7043.0</td>\n",
       "      <td>0.162147</td>\n",
       "      <td>0.368612</td>\n",
       "      <td>0.00</td>\n",
       "      <td>0.0</td>\n",
       "      <td>0.00</td>\n",
       "      <td>0.00</td>\n",
       "      <td>1.00</td>\n",
       "    </tr>\n",
       "    <tr>\n",
       "      <th>tenure</th>\n",
       "      <td>7043.0</td>\n",
       "      <td>32.371149</td>\n",
       "      <td>24.559481</td>\n",
       "      <td>0.00</td>\n",
       "      <td>9.0</td>\n",
       "      <td>29.00</td>\n",
       "      <td>55.00</td>\n",
       "      <td>72.00</td>\n",
       "    </tr>\n",
       "    <tr>\n",
       "      <th>monthly_charges</th>\n",
       "      <td>7043.0</td>\n",
       "      <td>64.761692</td>\n",
       "      <td>30.090047</td>\n",
       "      <td>18.25</td>\n",
       "      <td>35.5</td>\n",
       "      <td>70.35</td>\n",
       "      <td>89.85</td>\n",
       "      <td>118.75</td>\n",
       "    </tr>\n",
       "  </tbody>\n",
       "</table>\n",
       "</div>"
      ],
      "text/plain": [
       "                           count       mean        std    min   25%    50%  \\\n",
       "payment_type_id           7043.0   2.315633   1.148907   1.00   1.0   2.00   \n",
       "internet_service_type_id  7043.0   1.872923   0.737796   1.00   1.0   2.00   \n",
       "contract_type_id          7043.0   1.690473   0.833755   1.00   1.0   1.00   \n",
       "senior_citizen            7043.0   0.162147   0.368612   0.00   0.0   0.00   \n",
       "tenure                    7043.0  32.371149  24.559481   0.00   9.0  29.00   \n",
       "monthly_charges           7043.0  64.761692  30.090047  18.25  35.5  70.35   \n",
       "\n",
       "                            75%     max  \n",
       "payment_type_id            3.00    4.00  \n",
       "internet_service_type_id   2.00    3.00  \n",
       "contract_type_id           2.00    3.00  \n",
       "senior_citizen             0.00    1.00  \n",
       "tenure                    55.00   72.00  \n",
       "monthly_charges           89.85  118.75  "
      ]
     },
     "execution_count": 4,
     "metadata": {},
     "output_type": "execute_result"
    }
   ],
   "source": [
    "# stats of numeric columns\n",
    "telcodf.describe().T"
   ]
  },
  {
   "cell_type": "code",
   "execution_count": 5,
   "metadata": {},
   "outputs": [
    {
     "name": "stdout",
     "output_type": "stream",
     "text": [
      "<class 'pandas.core.frame.DataFrame'>\n",
      "Int64Index: 7043 entries, 0 to 7042\n",
      "Data columns (total 24 columns):\n",
      " #   Column                    Non-Null Count  Dtype  \n",
      "---  ------                    --------------  -----  \n",
      " 0   payment_type_id           7043 non-null   int64  \n",
      " 1   internet_service_type_id  7043 non-null   int64  \n",
      " 2   contract_type_id          7043 non-null   int64  \n",
      " 3   customer_id               7043 non-null   object \n",
      " 4   gender                    7043 non-null   object \n",
      " 5   senior_citizen            7043 non-null   int64  \n",
      " 6   partner                   7043 non-null   object \n",
      " 7   dependents                7043 non-null   object \n",
      " 8   tenure                    7043 non-null   int64  \n",
      " 9   phone_service             7043 non-null   object \n",
      " 10  multiple_lines            7043 non-null   object \n",
      " 11  online_security           7043 non-null   object \n",
      " 12  online_backup             7043 non-null   object \n",
      " 13  device_protection         7043 non-null   object \n",
      " 14  tech_support              7043 non-null   object \n",
      " 15  streaming_tv              7043 non-null   object \n",
      " 16  streaming_movies          7043 non-null   object \n",
      " 17  paperless_billing         7043 non-null   object \n",
      " 18  monthly_charges           7043 non-null   float64\n",
      " 19  total_charges             7043 non-null   object \n",
      " 20  churn                     7043 non-null   object \n",
      " 21  contract_type             7043 non-null   object \n",
      " 22  internet_service_type     7043 non-null   object \n",
      " 23  payment_type              7043 non-null   object \n",
      "dtypes: float64(1), int64(5), object(18)\n",
      "memory usage: 1.3+ MB\n"
     ]
    }
   ],
   "source": [
    "# look at column value types\n",
    "telcodf.info()"
   ]
  },
  {
   "cell_type": "markdown",
   "metadata": {},
   "source": [
    "#### Acquire Takeaways\n",
    "\n",
    "- wrote a SQL query to join tables to acquire all the data from the CodeUp database\n",
    "- create and store a csv file to make it quicker for future use\n",
    "- lots of object columns that will need to be encoded\n",
    "- several columns appear to have similiar information and could be combined"
   ]
  },
  {
   "cell_type": "markdown",
   "metadata": {},
   "source": [
    "## Prepare the TelCo data\n",
    "\n",
    "#### Goal:\n",
    "- reduce the number of columns to make comparing them more efficient\n",
    "\n",
    "#### Steps taken during data prep include:\n",
    "- drop any duplicates - no change in counts\n",
    "- set index to customer_id - no statisical value to customer_id column\n",
    "- replace spaces, investigate NaN's\n",
    "-- found 11 NaN's in total charges - all occurances were customers with no tenure and did not churn\n",
    "-- 11 out of 7043 observations = ~0.16%, decided to drop them because they would have no effect on calculations\n",
    "- convert total_charges from 'object' to 'float64'\n",
    "- tenure renamed to 'tenure_months' and created 'tenure_years' column\n",
    "- encode columns with 'Yes' and 'No' values\n",
    "- feature engineering - combine columns that contain related information and encode their values\n",
    "-- partner and dependents -> family\n",
    "-- phone_service and multiple_lines -> phone_service\n",
    "-- online_security and online_backup -> online_services\n",
    "-- streaming_tv and streaming_movies -> streaming_services\n",
    "-- payment_type and payment_type_id -> auto_pay\n",
    "-- contract_type and contract_type_id -> contract_type\n",
    "-- internet_service_type and internet_service_type_id -> internet_service_type"
   ]
  },
  {
   "cell_type": "code",
   "execution_count": 6,
   "metadata": {},
   "outputs": [
    {
     "data": {
      "text/html": [
       "<div>\n",
       "<style scoped>\n",
       "    .dataframe tbody tr th:only-of-type {\n",
       "        vertical-align: middle;\n",
       "    }\n",
       "\n",
       "    .dataframe tbody tr th {\n",
       "        vertical-align: top;\n",
       "    }\n",
       "\n",
       "    .dataframe thead th {\n",
       "        text-align: right;\n",
       "    }\n",
       "</style>\n",
       "<table border=\"1\" class=\"dataframe\">\n",
       "  <thead>\n",
       "    <tr style=\"text-align: right;\">\n",
       "      <th>customer_id</th>\n",
       "      <th>0016-QLJIS</th>\n",
       "      <th>0017-DINOC</th>\n",
       "      <th>0019-GFNTW</th>\n",
       "      <th>0056-EPFBG</th>\n",
       "      <th>0078-XZMHT</th>\n",
       "    </tr>\n",
       "  </thead>\n",
       "  <tbody>\n",
       "    <tr>\n",
       "      <th>auto_pay</th>\n",
       "      <td>0.000000</td>\n",
       "      <td>1.00</td>\n",
       "      <td>1.000000</td>\n",
       "      <td>1.000000</td>\n",
       "      <td>1.00</td>\n",
       "    </tr>\n",
       "    <tr>\n",
       "      <th>senior_citizen</th>\n",
       "      <td>0.000000</td>\n",
       "      <td>0.00</td>\n",
       "      <td>0.000000</td>\n",
       "      <td>0.000000</td>\n",
       "      <td>0.00</td>\n",
       "    </tr>\n",
       "    <tr>\n",
       "      <th>tenure_months</th>\n",
       "      <td>65.000000</td>\n",
       "      <td>54.00</td>\n",
       "      <td>56.000000</td>\n",
       "      <td>20.000000</td>\n",
       "      <td>72.00</td>\n",
       "    </tr>\n",
       "    <tr>\n",
       "      <th>phone_service</th>\n",
       "      <td>2.000000</td>\n",
       "      <td>0.00</td>\n",
       "      <td>0.000000</td>\n",
       "      <td>0.000000</td>\n",
       "      <td>2.00</td>\n",
       "    </tr>\n",
       "    <tr>\n",
       "      <th>paperless_billing</th>\n",
       "      <td>1.000000</td>\n",
       "      <td>0.00</td>\n",
       "      <td>0.000000</td>\n",
       "      <td>1.000000</td>\n",
       "      <td>1.00</td>\n",
       "    </tr>\n",
       "    <tr>\n",
       "      <th>monthly_charges</th>\n",
       "      <td>90.450000</td>\n",
       "      <td>45.20</td>\n",
       "      <td>45.050000</td>\n",
       "      <td>39.400000</td>\n",
       "      <td>85.15</td>\n",
       "    </tr>\n",
       "    <tr>\n",
       "      <th>total_charges</th>\n",
       "      <td>5957.900000</td>\n",
       "      <td>2460.55</td>\n",
       "      <td>2560.100000</td>\n",
       "      <td>825.400000</td>\n",
       "      <td>6316.20</td>\n",
       "    </tr>\n",
       "    <tr>\n",
       "      <th>churn</th>\n",
       "      <td>0.000000</td>\n",
       "      <td>0.00</td>\n",
       "      <td>0.000000</td>\n",
       "      <td>0.000000</td>\n",
       "      <td>0.00</td>\n",
       "    </tr>\n",
       "    <tr>\n",
       "      <th>contract_type</th>\n",
       "      <td>2.000000</td>\n",
       "      <td>2.00</td>\n",
       "      <td>2.000000</td>\n",
       "      <td>2.000000</td>\n",
       "      <td>2.00</td>\n",
       "    </tr>\n",
       "    <tr>\n",
       "      <th>internet_service_type</th>\n",
       "      <td>1.000000</td>\n",
       "      <td>1.00</td>\n",
       "      <td>1.000000</td>\n",
       "      <td>1.000000</td>\n",
       "      <td>1.00</td>\n",
       "    </tr>\n",
       "    <tr>\n",
       "      <th>tenure_years</th>\n",
       "      <td>5.416667</td>\n",
       "      <td>4.50</td>\n",
       "      <td>4.666667</td>\n",
       "      <td>1.666667</td>\n",
       "      <td>6.00</td>\n",
       "    </tr>\n",
       "    <tr>\n",
       "      <th>Male</th>\n",
       "      <td>0.000000</td>\n",
       "      <td>1.00</td>\n",
       "      <td>0.000000</td>\n",
       "      <td>1.000000</td>\n",
       "      <td>1.00</td>\n",
       "    </tr>\n",
       "    <tr>\n",
       "      <th>family</th>\n",
       "      <td>2.000000</td>\n",
       "      <td>0.00</td>\n",
       "      <td>0.000000</td>\n",
       "      <td>2.000000</td>\n",
       "      <td>1.00</td>\n",
       "    </tr>\n",
       "    <tr>\n",
       "      <th>online_services</th>\n",
       "      <td>2.000000</td>\n",
       "      <td>1.00</td>\n",
       "      <td>2.000000</td>\n",
       "      <td>1.000000</td>\n",
       "      <td>1.00</td>\n",
       "    </tr>\n",
       "    <tr>\n",
       "      <th>support_services</th>\n",
       "      <td>2.000000</td>\n",
       "      <td>1.00</td>\n",
       "      <td>2.000000</td>\n",
       "      <td>2.000000</td>\n",
       "      <td>2.00</td>\n",
       "    </tr>\n",
       "    <tr>\n",
       "      <th>streaming_services</th>\n",
       "      <td>2.000000</td>\n",
       "      <td>1.00</td>\n",
       "      <td>0.000000</td>\n",
       "      <td>0.000000</td>\n",
       "      <td>2.00</td>\n",
       "    </tr>\n",
       "  </tbody>\n",
       "</table>\n",
       "</div>"
      ],
      "text/plain": [
       "customer_id             0016-QLJIS  0017-DINOC   0019-GFNTW  0056-EPFBG  \\\n",
       "auto_pay                  0.000000        1.00     1.000000    1.000000   \n",
       "senior_citizen            0.000000        0.00     0.000000    0.000000   \n",
       "tenure_months            65.000000       54.00    56.000000   20.000000   \n",
       "phone_service             2.000000        0.00     0.000000    0.000000   \n",
       "paperless_billing         1.000000        0.00     0.000000    1.000000   \n",
       "monthly_charges          90.450000       45.20    45.050000   39.400000   \n",
       "total_charges          5957.900000     2460.55  2560.100000  825.400000   \n",
       "churn                     0.000000        0.00     0.000000    0.000000   \n",
       "contract_type             2.000000        2.00     2.000000    2.000000   \n",
       "internet_service_type     1.000000        1.00     1.000000    1.000000   \n",
       "tenure_years              5.416667        4.50     4.666667    1.666667   \n",
       "Male                      0.000000        1.00     0.000000    1.000000   \n",
       "family                    2.000000        0.00     0.000000    2.000000   \n",
       "online_services           2.000000        1.00     2.000000    1.000000   \n",
       "support_services          2.000000        1.00     2.000000    2.000000   \n",
       "streaming_services        2.000000        1.00     0.000000    0.000000   \n",
       "\n",
       "customer_id            0078-XZMHT  \n",
       "auto_pay                     1.00  \n",
       "senior_citizen               0.00  \n",
       "tenure_months               72.00  \n",
       "phone_service                2.00  \n",
       "paperless_billing            1.00  \n",
       "monthly_charges             85.15  \n",
       "total_charges             6316.20  \n",
       "churn                        0.00  \n",
       "contract_type                2.00  \n",
       "internet_service_type        1.00  \n",
       "tenure_years                 6.00  \n",
       "Male                         1.00  \n",
       "family                       1.00  \n",
       "online_services              1.00  \n",
       "support_services             2.00  \n",
       "streaming_services           2.00  "
      ]
     },
     "execution_count": 6,
     "metadata": {},
     "output_type": "execute_result"
    }
   ],
   "source": [
    "# use imported function to prepare the data, then look at a sample\n",
    "telcodf = telco_prep(telcodf)\n",
    "telcodf.head().T"
   ]
  },
  {
   "cell_type": "code",
   "execution_count": 7,
   "metadata": {},
   "outputs": [
    {
     "data": {
      "text/plain": [
       "(7032, 16)"
      ]
     },
     "execution_count": 7,
     "metadata": {},
     "output_type": "execute_result"
    }
   ],
   "source": [
    "# rows and columns of prepped data\n",
    "telcodf.shape"
   ]
  },
  {
   "cell_type": "code",
   "execution_count": 8,
   "metadata": {},
   "outputs": [
    {
     "data": {
      "text/html": [
       "<div>\n",
       "<style scoped>\n",
       "    .dataframe tbody tr th:only-of-type {\n",
       "        vertical-align: middle;\n",
       "    }\n",
       "\n",
       "    .dataframe tbody tr th {\n",
       "        vertical-align: top;\n",
       "    }\n",
       "\n",
       "    .dataframe thead th {\n",
       "        text-align: right;\n",
       "    }\n",
       "</style>\n",
       "<table border=\"1\" class=\"dataframe\">\n",
       "  <thead>\n",
       "    <tr style=\"text-align: right;\">\n",
       "      <th></th>\n",
       "      <th>count</th>\n",
       "      <th>mean</th>\n",
       "      <th>std</th>\n",
       "      <th>min</th>\n",
       "      <th>25%</th>\n",
       "      <th>50%</th>\n",
       "      <th>75%</th>\n",
       "      <th>max</th>\n",
       "    </tr>\n",
       "  </thead>\n",
       "  <tbody>\n",
       "    <tr>\n",
       "      <th>auto_pay</th>\n",
       "      <td>7032.0</td>\n",
       "      <td>0.435580</td>\n",
       "      <td>0.495868</td>\n",
       "      <td>0.000000</td>\n",
       "      <td>0.0000</td>\n",
       "      <td>0.000000</td>\n",
       "      <td>1.000000</td>\n",
       "      <td>1.00</td>\n",
       "    </tr>\n",
       "    <tr>\n",
       "      <th>senior_citizen</th>\n",
       "      <td>7032.0</td>\n",
       "      <td>0.162400</td>\n",
       "      <td>0.368844</td>\n",
       "      <td>0.000000</td>\n",
       "      <td>0.0000</td>\n",
       "      <td>0.000000</td>\n",
       "      <td>0.000000</td>\n",
       "      <td>1.00</td>\n",
       "    </tr>\n",
       "    <tr>\n",
       "      <th>tenure_months</th>\n",
       "      <td>7032.0</td>\n",
       "      <td>32.421786</td>\n",
       "      <td>24.545260</td>\n",
       "      <td>1.000000</td>\n",
       "      <td>9.0000</td>\n",
       "      <td>29.000000</td>\n",
       "      <td>55.000000</td>\n",
       "      <td>72.00</td>\n",
       "    </tr>\n",
       "    <tr>\n",
       "      <th>phone_service</th>\n",
       "      <td>7032.0</td>\n",
       "      <td>1.325228</td>\n",
       "      <td>0.642585</td>\n",
       "      <td>0.000000</td>\n",
       "      <td>1.0000</td>\n",
       "      <td>1.000000</td>\n",
       "      <td>2.000000</td>\n",
       "      <td>2.00</td>\n",
       "    </tr>\n",
       "    <tr>\n",
       "      <th>paperless_billing</th>\n",
       "      <td>7032.0</td>\n",
       "      <td>0.592719</td>\n",
       "      <td>0.491363</td>\n",
       "      <td>0.000000</td>\n",
       "      <td>0.0000</td>\n",
       "      <td>1.000000</td>\n",
       "      <td>1.000000</td>\n",
       "      <td>1.00</td>\n",
       "    </tr>\n",
       "    <tr>\n",
       "      <th>monthly_charges</th>\n",
       "      <td>7032.0</td>\n",
       "      <td>64.798208</td>\n",
       "      <td>30.085974</td>\n",
       "      <td>18.250000</td>\n",
       "      <td>35.5875</td>\n",
       "      <td>70.350000</td>\n",
       "      <td>89.862500</td>\n",
       "      <td>118.75</td>\n",
       "    </tr>\n",
       "    <tr>\n",
       "      <th>total_charges</th>\n",
       "      <td>7032.0</td>\n",
       "      <td>2283.300441</td>\n",
       "      <td>2266.771362</td>\n",
       "      <td>18.800000</td>\n",
       "      <td>401.4500</td>\n",
       "      <td>1397.475000</td>\n",
       "      <td>3794.737500</td>\n",
       "      <td>8684.80</td>\n",
       "    </tr>\n",
       "    <tr>\n",
       "      <th>churn</th>\n",
       "      <td>7032.0</td>\n",
       "      <td>0.265785</td>\n",
       "      <td>0.441782</td>\n",
       "      <td>0.000000</td>\n",
       "      <td>0.0000</td>\n",
       "      <td>0.000000</td>\n",
       "      <td>1.000000</td>\n",
       "      <td>1.00</td>\n",
       "    </tr>\n",
       "    <tr>\n",
       "      <th>contract_type</th>\n",
       "      <td>7032.0</td>\n",
       "      <td>0.688567</td>\n",
       "      <td>0.832934</td>\n",
       "      <td>0.000000</td>\n",
       "      <td>0.0000</td>\n",
       "      <td>0.000000</td>\n",
       "      <td>1.000000</td>\n",
       "      <td>2.00</td>\n",
       "    </tr>\n",
       "    <tr>\n",
       "      <th>internet_service_type</th>\n",
       "      <td>7032.0</td>\n",
       "      <td>1.224118</td>\n",
       "      <td>0.778643</td>\n",
       "      <td>0.000000</td>\n",
       "      <td>1.0000</td>\n",
       "      <td>1.000000</td>\n",
       "      <td>2.000000</td>\n",
       "      <td>2.00</td>\n",
       "    </tr>\n",
       "    <tr>\n",
       "      <th>tenure_years</th>\n",
       "      <td>7032.0</td>\n",
       "      <td>2.701816</td>\n",
       "      <td>2.045438</td>\n",
       "      <td>0.083333</td>\n",
       "      <td>0.7500</td>\n",
       "      <td>2.416667</td>\n",
       "      <td>4.583333</td>\n",
       "      <td>6.00</td>\n",
       "    </tr>\n",
       "    <tr>\n",
       "      <th>Male</th>\n",
       "      <td>7032.0</td>\n",
       "      <td>0.504693</td>\n",
       "      <td>0.500014</td>\n",
       "      <td>0.000000</td>\n",
       "      <td>0.0000</td>\n",
       "      <td>1.000000</td>\n",
       "      <td>1.000000</td>\n",
       "      <td>1.00</td>\n",
       "    </tr>\n",
       "    <tr>\n",
       "      <th>family</th>\n",
       "      <td>7032.0</td>\n",
       "      <td>0.781001</td>\n",
       "      <td>0.816097</td>\n",
       "      <td>0.000000</td>\n",
       "      <td>0.0000</td>\n",
       "      <td>1.000000</td>\n",
       "      <td>1.000000</td>\n",
       "      <td>2.00</td>\n",
       "    </tr>\n",
       "    <tr>\n",
       "      <th>online_services</th>\n",
       "      <td>7032.0</td>\n",
       "      <td>0.631399</td>\n",
       "      <td>0.743108</td>\n",
       "      <td>0.000000</td>\n",
       "      <td>0.0000</td>\n",
       "      <td>0.000000</td>\n",
       "      <td>1.000000</td>\n",
       "      <td>2.00</td>\n",
       "    </tr>\n",
       "    <tr>\n",
       "      <th>support_services</th>\n",
       "      <td>7032.0</td>\n",
       "      <td>0.633959</td>\n",
       "      <td>0.758380</td>\n",
       "      <td>0.000000</td>\n",
       "      <td>0.0000</td>\n",
       "      <td>0.000000</td>\n",
       "      <td>1.000000</td>\n",
       "      <td>2.00</td>\n",
       "    </tr>\n",
       "    <tr>\n",
       "      <th>streaming_services</th>\n",
       "      <td>7032.0</td>\n",
       "      <td>0.772753</td>\n",
       "      <td>0.852753</td>\n",
       "      <td>0.000000</td>\n",
       "      <td>0.0000</td>\n",
       "      <td>0.000000</td>\n",
       "      <td>2.000000</td>\n",
       "      <td>2.00</td>\n",
       "    </tr>\n",
       "  </tbody>\n",
       "</table>\n",
       "</div>"
      ],
      "text/plain": [
       "                        count         mean          std        min       25%  \\\n",
       "auto_pay               7032.0     0.435580     0.495868   0.000000    0.0000   \n",
       "senior_citizen         7032.0     0.162400     0.368844   0.000000    0.0000   \n",
       "tenure_months          7032.0    32.421786    24.545260   1.000000    9.0000   \n",
       "phone_service          7032.0     1.325228     0.642585   0.000000    1.0000   \n",
       "paperless_billing      7032.0     0.592719     0.491363   0.000000    0.0000   \n",
       "monthly_charges        7032.0    64.798208    30.085974  18.250000   35.5875   \n",
       "total_charges          7032.0  2283.300441  2266.771362  18.800000  401.4500   \n",
       "churn                  7032.0     0.265785     0.441782   0.000000    0.0000   \n",
       "contract_type          7032.0     0.688567     0.832934   0.000000    0.0000   \n",
       "internet_service_type  7032.0     1.224118     0.778643   0.000000    1.0000   \n",
       "tenure_years           7032.0     2.701816     2.045438   0.083333    0.7500   \n",
       "Male                   7032.0     0.504693     0.500014   0.000000    0.0000   \n",
       "family                 7032.0     0.781001     0.816097   0.000000    0.0000   \n",
       "online_services        7032.0     0.631399     0.743108   0.000000    0.0000   \n",
       "support_services       7032.0     0.633959     0.758380   0.000000    0.0000   \n",
       "streaming_services     7032.0     0.772753     0.852753   0.000000    0.0000   \n",
       "\n",
       "                               50%          75%      max  \n",
       "auto_pay                  0.000000     1.000000     1.00  \n",
       "senior_citizen            0.000000     0.000000     1.00  \n",
       "tenure_months            29.000000    55.000000    72.00  \n",
       "phone_service             1.000000     2.000000     2.00  \n",
       "paperless_billing         1.000000     1.000000     1.00  \n",
       "monthly_charges          70.350000    89.862500   118.75  \n",
       "total_charges          1397.475000  3794.737500  8684.80  \n",
       "churn                     0.000000     1.000000     1.00  \n",
       "contract_type             0.000000     1.000000     2.00  \n",
       "internet_service_type     1.000000     2.000000     2.00  \n",
       "tenure_years              2.416667     4.583333     6.00  \n",
       "Male                      1.000000     1.000000     1.00  \n",
       "family                    1.000000     1.000000     2.00  \n",
       "online_services           0.000000     1.000000     2.00  \n",
       "support_services          0.000000     1.000000     2.00  \n",
       "streaming_services        0.000000     2.000000     2.00  "
      ]
     },
     "execution_count": 8,
     "metadata": {},
     "output_type": "execute_result"
    }
   ],
   "source": [
    "# stats review of prepped data\n",
    "telcodf.describe().T"
   ]
  },
  {
   "cell_type": "code",
   "execution_count": 9,
   "metadata": {},
   "outputs": [
    {
     "name": "stdout",
     "output_type": "stream",
     "text": [
      "<class 'pandas.core.frame.DataFrame'>\n",
      "Index: 7032 entries, 0016-QLJIS to 9986-BONCE\n",
      "Data columns (total 16 columns):\n",
      " #   Column                 Non-Null Count  Dtype  \n",
      "---  ------                 --------------  -----  \n",
      " 0   auto_pay               7032 non-null   int64  \n",
      " 1   senior_citizen         7032 non-null   int64  \n",
      " 2   tenure_months          7032 non-null   int64  \n",
      " 3   phone_service          7032 non-null   int64  \n",
      " 4   paperless_billing      7032 non-null   int64  \n",
      " 5   monthly_charges        7032 non-null   float64\n",
      " 6   total_charges          7032 non-null   float64\n",
      " 7   churn                  7032 non-null   int64  \n",
      " 8   contract_type          7032 non-null   int64  \n",
      " 9   internet_service_type  7032 non-null   int64  \n",
      " 10  tenure_years           7032 non-null   float64\n",
      " 11  Male                   7032 non-null   uint8  \n",
      " 12  family                 7032 non-null   int64  \n",
      " 13  online_services        7032 non-null   int64  \n",
      " 14  support_services       7032 non-null   int64  \n",
      " 15  streaming_services     7032 non-null   int64  \n",
      "dtypes: float64(3), int64(12), uint8(1)\n",
      "memory usage: 885.9+ KB\n"
     ]
    }
   ],
   "source": [
    "# last check on columns and data types\n",
    "telcodf.info()"
   ]
  },
  {
   "cell_type": "code",
   "execution_count": 10,
   "metadata": {},
   "outputs": [
    {
     "data": {
      "text/plain": [
       "((3937, 16), (1688, 16), (1407, 16))"
      ]
     },
     "execution_count": 10,
     "metadata": {},
     "output_type": "execute_result"
    }
   ],
   "source": [
    "# use imported function to split the data, check rows and columns of each subset\n",
    "train, validate, test = telco_split(telcodf)\n",
    "train.shape, validate.shape, test.shape"
   ]
  },
  {
   "cell_type": "markdown",
   "metadata": {},
   "source": [
    "#### Prepare Takeaways\n",
    "\n",
    "- all columns encoded to numeric values\n",
    "- reduced columns down to 16\n",
    "-- continuous variables = 4\n",
    "-- categorical variables = 12\n",
    "- split data (random_state=1234, stratify = 'churn')\n",
    "-- train(56%), validate(24%) and test(20%) of original dataset"
   ]
  },
  {
   "cell_type": "markdown",
   "metadata": {},
   "source": [
    "## Exploration of the TelCo data\n",
    "\n",
    "#### Goals:\n",
    "\n",
    "- create visualization of overall churn rate\n",
    "- create visualizations of variable distributions\n",
    "- create and test hypotheses"
   ]
  },
  {
   "cell_type": "markdown",
   "metadata": {},
   "source": [
    "### Visualizations"
   ]
  },
  {
   "cell_type": "code",
   "execution_count": 57,
   "metadata": {},
   "outputs": [
    {
     "data": {
      "image/png": "[encoded data removed]",
      "text/plain": [
       "<Figure size 432x288 with 1 Axes>"
      ]
     },
     "metadata": {
      "needs_background": "light"
     },
     "output_type": "display_data"
    }
   ],
   "source": [
    "# overall churn rate\n",
    "train.churn.value_counts().sort_index().plot.bar()\n",
    "churn_rate = train.churn.mean()\n",
    "plt.title(f'Overall churn rate: {churn_rate:.2%}')\n",
    "plt.xlabel('churn')\n",
    "plt.show()"
   ]
  },
  {
   "cell_type": "code",
   "execution_count": 13,
   "metadata": {},
   "outputs": [],
   "source": [
    "# create variable groups and assign the target variable\n",
    "# use top 4 variables that were identified to have 20% or greater correlation \n",
    "quant_vars = ['tenure_months']\n",
    "cat_vars = ['contract_type', 'internet_service_type', 'auto_pay']\n",
    "target = 'churn'"
   ]
  },
  {
   "cell_type": "code",
   "execution_count": 16,
   "metadata": {},
   "outputs": [
    {
     "name": "stdout",
     "output_type": "stream",
     "text": [
      "contract_type \n",
      "_____________________\n",
      "\n",
      "         chi2        p-value  degrees of freedom\n",
      "0  672.988803  7.283469e-147                   2\n",
      "\n",
      "observed:\n",
      " churn             0     1   All\n",
      "contract_type                  \n",
      "0              1231   926  2157\n",
      "1               737    96   833\n",
      "2               923    24   947\n",
      "All            2891  1046  3937\n",
      "\n",
      "expected:\n",
      "              0           1\n",
      "0  1583.918466  573.081534\n",
      "1   611.684785  221.315215\n",
      "2   695.396749  251.603251\n"
     ]
    },
    {
     "data": {
      "image/png": "[encoded data removed]",
      "text/plain": [
       "<Figure size 144x144 with 1 Axes>"
      ]
     },
     "metadata": {
      "needs_background": "light"
     },
     "output_type": "display_data"
    },
    {
     "name": "stdout",
     "output_type": "stream",
     "text": [
      "\n",
      "_____________________\n",
      "\n",
      "internet_service_type \n",
      "_____________________\n",
      "\n",
      "         chi2       p-value  degrees of freedom\n",
      "0  411.000269  5.654909e-90                   2\n",
      "\n",
      "observed:\n",
      " churn                     0     1   All\n",
      "internet_service_type                  \n",
      "0                       768    68   836\n",
      "1                      1095   237  1332\n",
      "2                      1028   741  1769\n",
      "All                    2891  1046  3937\n",
      "\n",
      "expected:\n",
      "              0           1\n",
      "0   613.887732  222.112268\n",
      "1   978.108204  353.891796\n",
      "2  1299.004064  469.995936\n"
     ]
    },
    {
     "data": {
      "image/png": "[encoded data removed]",
      "text/plain": [
       "<Figure size 144x144 with 1 Axes>"
      ]
     },
     "metadata": {
      "needs_background": "light"
     },
     "output_type": "display_data"
    },
    {
     "name": "stdout",
     "output_type": "stream",
     "text": [
      "\n",
      "_____________________\n",
      "\n",
      "auto_pay \n",
      "_____________________\n",
      "\n",
      "         chi2       p-value  degrees of freedom\n",
      "0  193.869652  4.546875e-44                   1\n",
      "\n",
      "observed:\n",
      " churn        0     1   All\n",
      "auto_pay                  \n",
      "0         1460   789  2249\n",
      "1         1431   257  1688\n",
      "All       2891  1046  3937\n",
      "\n",
      "expected:\n",
      "              0           1\n",
      "0  1651.475489  597.524511\n",
      "1  1239.524511  448.475489\n"
     ]
    },
    {
     "data": {
      "image/png": "[encoded data removed]",
      "text/plain": [
       "<Figure size 144x144 with 1 Axes>"
      ]
     },
     "metadata": {
      "needs_background": "light"
     },
     "output_type": "display_data"
    },
    {
     "name": "stdout",
     "output_type": "stream",
     "text": [
      "\n",
      "_____________________\n",
      "\n",
      "tenure_months \n",
      "____________________\n",
      "\n"
     ]
    },
    {
     "data": {
      "image/png": "[encoded data removed]",
      "text/plain": [
       "<Figure size 288x288 with 1 Axes>"
      ]
     },
     "metadata": {
      "needs_background": "light"
     },
     "output_type": "display_data"
    },
    {
     "name": "stdout",
     "output_type": "stream",
     "text": [
      "        count       mean        std  min   25%   50%   75%   max\n",
      "churn                                                           \n",
      "0      2891.0  38.018333  24.250795  1.0  15.0  39.0  61.0  72.0\n",
      "1      1046.0  17.637667  19.100432  1.0   2.0  10.0  28.0  72.0 \n",
      "\n",
      "\n",
      "Mann-Whitney Test:\n",
      " MannwhitneyuResult(statistic=2260899.0, pvalue=4.772345740237127e-125)\n",
      "\n",
      "____________________\n",
      "\n"
     ]
    }
   ],
   "source": [
    "# use imported function to create bivariate visualizations\n",
    "explore_bivariate(train, target, cat_vars, quant_vars)"
   ]
  },
  {
   "cell_type": "markdown",
   "metadata": {},
   "source": [
    "#### Visualizations Takeaways\n",
    "\n",
    "- contract_type (values: 0 = 'Month-to-month', 1 = 'One year', 2 = 'Two year')\n",
    "-- low p-score = 7.283469e-147\n",
    "-- Month-to-month has the highest rate of churn\n",
    "- internet_service type (values: 0 = 'None', 1 = 'DSL', 2 = 'Fiber optic')\n",
    "-- low p-value = 5.654909e-90\n",
    "-- Fiber optic has the highest rate of churn\n",
    "- auto_pay (values: 0 = manual_pay, 1 = auto_pay)\n",
    "-- low p-value = 4.546875e-44\n",
    "-- manual_pay has the highest rate of churn\n",
    "- tenure_months\n",
    "-- low p-value = 4.772345740237127e-125\n",
    "-- majority of churn occurs with tenure less than 30 months"
   ]
  },
  {
   "cell_type": "markdown",
   "metadata": {},
   "source": [
    "### Hypothesis Testing"
   ]
  },
  {
   "cell_type": "markdown",
   "metadata": {},
   "source": [
    "#### Internet Service Type\n",
    "\n",
    "- Does the type of internet service affect churn?\n",
    "- The heatmap shows this category has the highest positive correlation.\n",
    "\n",
    "Form hypothesis #1:\n",
    "\n",
    "- $H_0$: The type of internet service has no affect on churn.\n",
    "- $H_a$: The type of internet service does have an affect on churn.\n",
    "\n",
    "Will use chi^2 test to compare 2 categorical variables - internet_service_type and churn"
   ]
  },
  {
   "cell_type": "code",
   "execution_count": 46,
   "metadata": {},
   "outputs": [
    {
     "name": "stdout",
     "output_type": "stream",
     "text": [
      "p-value: 5.654909106259869e-90, alpha: 0.05\n",
      "\n",
      "We can reject the null hypothesis that the type of internet service has no affect on churn.\n"
     ]
    }
   ],
   "source": [
    "# examine the 3 types of internet service and the relation to churn\n",
    "# make a crosstab\n",
    "observed1 = pd.crosstab(train.internet_service_type, train.churn)\n",
    "\n",
    "# run the chi^2 test\n",
    "chi2, p, degf, expected = stats.chi2_contingency(observed1)\n",
    "\n",
    "# set alpha\n",
    "alpha = 0.05\n",
    "\n",
    "# compare p-value and alpha\n",
    "print(f'p-value: {p}, alpha: {alpha}')\n",
    "\n",
    "null_hypothesis = \"the type of internet service has no affect on churn.\"\n",
    "\n",
    "if p < alpha:\n",
    "    print(f'\\nWe can reject the null hypothesis that', null_hypothesis)\n",
    "else:\n",
    "    print(f'\\nWe fail to reject the null hypothesis.')"
   ]
  },
  {
   "cell_type": "code",
   "execution_count": 40,
   "metadata": {},
   "outputs": [
    {
     "data": {
      "image/png": "[encoded data removed]",
      "text/plain": [
       "<Figure size 402.375x360 with 1 Axes>"
      ]
     },
     "metadata": {
      "needs_background": "light"
     },
     "output_type": "display_data"
    }
   ],
   "source": [
    "# visual of internet service type customers that have and have not churned\n",
    "# internet_service_types values = (0 = 'None', 1 = 'DSL', 2 = 'Fiber optic')\n",
    "# churn values = (0 = have not churned, 1 = have churned)\n",
    "sns.displot(data=train, x=train.internet_service_type.astype(str), hue='churn', multiple='stack')\n",
    "plt.title('Count of Churned Customers by Internet Service Type')\n",
    "plt.show()"
   ]
  },
  {
   "cell_type": "markdown",
   "metadata": {},
   "source": [
    "#### Takeaways\n",
    "\n",
    "- there is evidence to support the idea that internet service type has an affect on churn\n",
    "- churn rate for internet service types:\n",
    "-- no internet service = 68 / (68 + 768) = 0.0813\n",
    "-- DSL = 237 / (237 + 1095) = 0.1779\n",
    "-- Fiber optic = 741 / (741 + 1028) = 0.4189\n",
    "- Fiber optic service has the highest rate of churn within the internet service type category\n",
    "- Fiber optic churn rate is higher than the overall churn rate"
   ]
  },
  {
   "cell_type": "markdown",
   "metadata": {},
   "source": [
    "#### Automatic Payment\n",
    "\n",
    "- Does having a form of auto-pay affect churn?\n",
    "- The heatmap shows this category has the third highest negative correlation.\n",
    "\n",
    "Form hypothesis #2:\n",
    "\n",
    "- $H_0$: Having a form of auto-pay has no affect on churn.\n",
    "- $H_a$: Having a form of auto-pay does have an affect on churn.\n",
    "\n",
    "Will use chi^2 test to compare 2 categorical variables - auto_pay and churn"
   ]
  },
  {
   "cell_type": "code",
   "execution_count": 47,
   "metadata": {},
   "outputs": [
    {
     "name": "stdout",
     "output_type": "stream",
     "text": [
      "p-value: 4.546875469756717e-44, alpha: 0.05\n",
      "\n",
      "We can reject the null hypothesis that having a form of auto-pay has no affect on churn.\n"
     ]
    }
   ],
   "source": [
    "# examine auto-pay and the relation to churn\n",
    "# make a crosstab\n",
    "observed2 = pd.crosstab(train.auto_pay, train.churn)\n",
    "\n",
    "# run the chi^2 test\n",
    "chi2, p, degf, expected = stats.chi2_contingency(observed2)\n",
    "\n",
    "# set alpha\n",
    "alpha = 0.05\n",
    "\n",
    "# compare p-value and alpha\n",
    "print(f'p-value: {p}, alpha: {alpha}')\n",
    "\n",
    "null_hypothesis = \"having a form of auto-pay has no affect on churn.\"\n",
    "\n",
    "if p < alpha:\n",
    "    print(f'\\nWe can reject the null hypothesis that', null_hypothesis)\n",
    "else:\n",
    "    print(f'\\nWe fail to reject the null hypothesis.')"
   ]
  },
  {
   "cell_type": "code",
   "execution_count": 41,
   "metadata": {},
   "outputs": [
    {
     "data": {
      "image/png": "[encoded data removed]",
      "text/plain": [
       "<Figure size 402.375x360 with 1 Axes>"
      ]
     },
     "metadata": {
      "needs_background": "light"
     },
     "output_type": "display_data"
    }
   ],
   "source": [
    "# visual of manual and auto-pay customers that have and have not churned\n",
    "# auto_pay values = (0 = manual_pay, 1 = auto_pay)\n",
    "# churn values = (0 = have not churned, 1 = have churned)\n",
    "sns.displot(data=train, x=train.auto_pay.astype(str), hue='churn', multiple='stack')\n",
    "plt.title('Count of Customers Churned by Manual and Auto-Pay')\n",
    "plt.show()"
   ]
  },
  {
   "cell_type": "markdown",
   "metadata": {},
   "source": [
    "#### Takeaways\n",
    "\n",
    "- there is evidence to support the idea that auto-payment has an affect on churn\n",
    "- churn rates for manual or auto-pay:\n",
    "-- manual = 789 / (789 + 1460) = 0.3508\n",
    "-- auto-pay = 257 / (257 + 1431) = 0.1523\n",
    "- Manual pay has the highest rate of churn within the auto-pay category\n",
    "- Manual pay churn rate is higher than the overall churn rate"
   ]
  },
  {
   "cell_type": "markdown",
   "metadata": {},
   "source": [
    "## Modeling the Telco data\n",
    "\n",
    "#### Goals:\n",
    "- baseline prediction\n",
    "- create 3 unique classification models\n",
    "-- using all of the variables would cause overfitting\n",
    "-- will use top 6 variables with correlation over 20%\n",
    "--- contract_type, tenure_months, internet_service_type, auto_pay, paperless_billing, family"
   ]
  },
  {
   "cell_type": "markdown",
   "metadata": {},
   "source": [
    "#### Baseline Prediction"
   ]
  },
  {
   "cell_type": "code",
   "execution_count": 24,
   "metadata": {},
   "outputs": [
    {
     "data": {
      "text/plain": [
       "(0    2891\n",
       " 1    1046\n",
       " Name: churn, dtype: int64,\n",
       " 0    0.734315\n",
       " 1    0.265685\n",
       " Name: churn, dtype: float64)"
      ]
     },
     "execution_count": 24,
     "metadata": {},
     "output_type": "execute_result"
    }
   ],
   "source": [
    "# split train, validate and test into X(variables) and y(target)\n",
    "X_train, y_train = train.drop(columns='churn'), train.churn\n",
    "X_validate, y_validate = validate.drop(columns='churn'), validate.churn\n",
    "X_test, y_test = test.drop(columns='churn'), test.churn\n",
    "\n",
    "# check values counts to establish baseline\n",
    "train.churn.value_counts(), train.churn.value_counts(normalize=True)"
   ]
  },
  {
   "cell_type": "code",
   "execution_count": 59,
   "metadata": {},
   "outputs": [
    {
     "name": "stdout",
     "output_type": "stream",
     "text": [
      "Baseline accuracy on the train subset: 0.7343\n"
     ]
    }
   ],
   "source": [
    "# baseline prediction = 0 (not churned)\n",
    "\n",
    "# create the baseline with constant equal to highest value\n",
    "baseline = DummyClassifier(strategy='constant', constant=0)\n",
    "# fit the baseline to the train subset\n",
    "baseline.fit(X_train, y_train)\n",
    "# accuracy of the baseline on the train subset\n",
    "print(f'Baseline accuracy on the train subset: {baseline.score(X_train, y_train):.4}')"
   ]
  },
  {
   "cell_type": "markdown",
   "metadata": {},
   "source": [
    "#### Create features list"
   ]
  },
  {
   "cell_type": "code",
   "execution_count": 28,
   "metadata": {},
   "outputs": [],
   "source": [
    "# features having more than 20% correlation\n",
    "features = ['auto_pay', 'tenure_months', 'paperless_billing', 'contract_type', 'internet_service_type', 'family']"
   ]
  },
  {
   "cell_type": "markdown",
   "metadata": {},
   "source": [
    "#### Model 1 - Logistic Regression"
   ]
  },
  {
   "cell_type": "code",
   "execution_count": 58,
   "metadata": {},
   "outputs": [
    {
     "name": "stdout",
     "output_type": "stream",
     "text": [
      "Classification report:\n",
      "               precision    recall  f1-score   support\n",
      "\n",
      "           0       0.84      0.90      0.87      2891\n",
      "           1       0.66      0.54      0.59      1046\n",
      "\n",
      "    accuracy                           0.80      3937\n",
      "   macro avg       0.75      0.72      0.73      3937\n",
      "weighted avg       0.79      0.80      0.80      3937\n",
      "\n",
      "Baseline accuracy on the train subset: 0.7343\n",
      "\n",
      "Model score for logit on train subset is: 0.8031\n",
      "Model score for logit on validate subset is: 0.7986\n"
     ]
    }
   ],
   "source": [
    "# create the model\n",
    "logit = LogisticRegression(random_state=1234)\n",
    "\n",
    "# fit the model\n",
    "logit.fit(X_train[features], y_train)\n",
    "\n",
    "# use the model to make predictions\n",
    "y_pred_logit = logit.predict(X_train[features])\n",
    "\n",
    "# use the model to predict probabilities\n",
    "y_pred_proba_logit = logit.predict_proba(X_train[features])\n",
    "\n",
    "# classification report\n",
    "print('Classification report:\\n',classification_report(y_train, y_pred_logit))\n",
    "\n",
    "# accuracy of the baseline on the train subset\n",
    "print(f'Baseline accuracy on the train subset: {baseline.score(X_train, y_train):.4}')\n",
    "\n",
    "# accuracy of the model\n",
    "print(f'\\nModel score for logit on train subset is: {logit.score(X_train[features], y_train):.4}')\n",
    "print(f'Model score for logit on validate subset is: {logit.score(X_validate[features], y_validate):.4}')"
   ]
  },
  {
   "cell_type": "markdown",
   "metadata": {},
   "source": [
    "#### Takeaways\n",
    "\n",
    "- logistic regression - using top 6 features \n",
    "-- accuracy on train and validate subsets beat the baseline accuracy\n",
    "-- hyperparameters - random_state"
   ]
  },
  {
   "cell_type": "markdown",
   "metadata": {},
   "source": [
    "#### Model 2 - Decision Tree"
   ]
  },
  {
   "cell_type": "code",
   "execution_count": 60,
   "metadata": {},
   "outputs": [
    {
     "name": "stdout",
     "output_type": "stream",
     "text": [
      "Classification report:\n",
      "               precision    recall  f1-score   support\n",
      "\n",
      "           0       0.81      0.94      0.87      2891\n",
      "           1       0.69      0.39      0.50      1046\n",
      "\n",
      "    accuracy                           0.79      3937\n",
      "   macro avg       0.75      0.66      0.68      3937\n",
      "weighted avg       0.78      0.79      0.77      3937\n",
      "\n",
      "Baseline accuracy on the train subset: 0.7343\n",
      "\n",
      "Model score for tree on train subset is: 0.7907\n",
      "Model score for tree on validate subset is: 0.7891\n"
     ]
    }
   ],
   "source": [
    "# create the model\n",
    "tree = DecisionTreeClassifier(max_depth=3, random_state=1234)\n",
    "\n",
    "# fit the object\n",
    "tree.fit(X_train[features], y_train)\n",
    "\n",
    "# use the model to make predictions\n",
    "y_pred_tree = tree.predict(X_train[features])\n",
    "\n",
    "# use the model to predict probabilities\n",
    "y_pred_proba_tree = tree.predict_proba(X_train[features])\n",
    "\n",
    "# classification report\n",
    "print('Classification report:\\n',classification_report(y_train, y_pred_tree))\n",
    "\n",
    "# accuracy of the baseline on the train subset\n",
    "print(f'Baseline accuracy on the train subset: {baseline.score(X_train, y_train):.4}')\n",
    "\n",
    "# accuracy of the model\n",
    "print(f'\\nModel score for tree on train subset is: {tree.score(X_train[features], y_train):.4}')\n",
    "print(f'Model score for tree on validate subset is: {tree.score(X_validate[features], y_validate):.4}')"
   ]
  },
  {
   "cell_type": "markdown",
   "metadata": {},
   "source": [
    "#### Takeaways\n",
    "\n",
    "- decision tree - using top 6 features\n",
    "- accuracy on train and validate subsets beat the baseline accuracy\n",
    "-- hyperparameters - max_depth, random_state"
   ]
  },
  {
   "cell_type": "markdown",
   "metadata": {},
   "source": [
    "#### Model 3 - Random Forest"
   ]
  },
  {
   "cell_type": "code",
   "execution_count": 61,
   "metadata": {},
   "outputs": [
    {
     "name": "stdout",
     "output_type": "stream",
     "text": [
      "Classification report:\n",
      "               precision    recall  f1-score   support\n",
      "\n",
      "           0       0.84      0.91      0.87      2891\n",
      "           1       0.68      0.50      0.58      1046\n",
      "\n",
      "    accuracy                           0.81      3937\n",
      "   macro avg       0.76      0.71      0.73      3937\n",
      "weighted avg       0.79      0.81      0.79      3937\n",
      "\n",
      "Baseline accuracy on the train subset: 0.7343\n",
      "\n",
      "Model score for rf on train subset is: 0.8052\n",
      "Model score for rf on validate subset is: 0.7867\n"
     ]
    }
   ],
   "source": [
    "# create the model\n",
    "rf = RandomForestClassifier(max_depth=5, min_samples_leaf=1, random_state=1234)\n",
    "\n",
    "# fit the object\n",
    "rf.fit(X_train[features], y_train)\n",
    "\n",
    "# use the model to make predictions\n",
    "y_pred_rf = rf.predict(X_train[features])\n",
    "\n",
    "# use the model to predict probabilities\n",
    "y_pred_proba_rf = rf.predict_proba(X_train[features])\n",
    "\n",
    "# classification report\n",
    "print('Classification report:\\n',classification_report(y_train, y_pred_rf))\n",
    "\n",
    "# accuracy of the baseline on the train subset\n",
    "print(f'Baseline accuracy on the train subset: {baseline.score(X_train, y_train):.4}')\n",
    "\n",
    "# accuracy of the model\n",
    "print(f'\\nModel score for rf on train subset is: {rf.score(X_train[features], y_train):.4}')\n",
    "print(f'Model score for rf on validate subset is: {rf.score(X_validate[features], y_validate):.4}')"
   ]
  },
  {
   "cell_type": "markdown",
   "metadata": {},
   "source": [
    "#### Takeaways\n",
    "\n",
    "- random forest - using 6 features\n",
    "- accuracy on train and validate subsets beat the baseline accuracy\n",
    "-- hyperparameters - max_depth, min_samples_leaf, random_state"
   ]
  },
  {
   "cell_type": "markdown",
   "metadata": {},
   "source": [
    "## Evaluate the Models for Best Fit\n",
    "\n",
    "- compare accuracy scores\n",
    "- select best fit model\n",
    "- evaluate on test data"
   ]
  },
  {
   "cell_type": "code",
   "execution_count": 63,
   "metadata": {},
   "outputs": [
    {
     "name": "stdout",
     "output_type": "stream",
     "text": [
      "Baseline accuracy on the train subset: 0.7343\n",
      "\n",
      "Model score for logistic regression on train subset is: 0.8031\n",
      "Model score for logistic regression on validate subset is: 0.7986\n",
      "\n",
      "Model score for decision tree on train subset is: 0.7907\n",
      "Model score for decision tree on validate subset is: 0.7891\n",
      "\n",
      "Model score for random forest on train subset is: 0.8052\n",
      "Model score for random forest on validate subset is: 0.7867\n"
     ]
    }
   ],
   "source": [
    "# accuracy of the baseline on the train subset\n",
    "print(f'Baseline accuracy on the train subset: {baseline.score(X_train, y_train):.4}')\n",
    "\n",
    "# accuracy of the logistic regression model\n",
    "print(f'\\nModel score for logistic regression on train subset is: {logit.score(X_train[features], y_train):.4}')\n",
    "print(f'Model score for logistic regression on validate subset is: {logit.score(X_validate[features], y_validate):.4}')\n",
    "\n",
    "# accuracy of the decision tree model\n",
    "print(f'\\nModel score for decision tree on train subset is: {tree.score(X_train[features], y_train):.4}')\n",
    "print(f'Model score for decision tree on validate subset is: {tree.score(X_validate[features], y_validate):.4}')\n",
    "\n",
    "# accuracy of the random forest model\n",
    "print(f'\\nModel score for random forest on train subset is: {rf.score(X_train[features], y_train):.4}')\n",
    "print(f'Model score for random forest on validate subset is: {rf.score(X_validate[features], y_validate):.4}')"
   ]
  },
  {
   "cell_type": "markdown",
   "metadata": {},
   "source": [
    "#### Takeaways\n",
    "\n",
    "- will move forward with logistic regression model\n",
    "-- accuracy beat baseline\n",
    "-- least drop-off between train and validate (best fit)\n",
    "- will use top 6 variables with correlation over 20%\n",
    "- hyperparameters - random_state\n",
    "-- adding and/or adjusting hyperparameters could improve results"
   ]
  },
  {
   "cell_type": "markdown",
   "metadata": {},
   "source": [
    "### Evaluate on Test Dataset"
   ]
  },
  {
   "cell_type": "code",
   "execution_count": 65,
   "metadata": {},
   "outputs": [
    {
     "name": "stdout",
     "output_type": "stream",
     "text": [
      "Baseline accuracy on the train subset: 0.7343\n",
      "\n",
      "Model score for logistic regression on train subset is: 0.8031\n",
      "Model score for logistic regression on validate subset is: 0.7986\n",
      "\n",
      "Model score for logistic regression on test subset is: 0.7918\n"
     ]
    }
   ],
   "source": [
    "# accuracy of the baseline on the train subset\n",
    "print(f'Baseline accuracy on the train subset: {baseline.score(X_train, y_train):.4}')\n",
    "\n",
    "# accuracy of the logistic regression model on train and validate\n",
    "print(f'\\nModel score for logistic regression on train subset is: {logit.score(X_train[features], y_train):.4}')\n",
    "print(f'Model score for logistic regression on validate subset is: {logit.score(X_validate[features], y_validate):.4}')\n",
    "\n",
    "# accuracy of the logistic regression model on test data\n",
    "print(f'\\nModel score for logistic regression on test subset is: {logit.score(X_test[features], y_test):.4}')"
   ]
  },
  {
   "cell_type": "markdown",
   "metadata": {},
   "source": [
    "#### Takeaways\n",
    "\n",
    "- accuracy on test was only slightly lower than train and validate\n",
    "- indicates a fairly well fit model\n",
    "- beat the baseline accuracy by almost 6%"
   ]
  },
  {
   "cell_type": "markdown",
   "metadata": {},
   "source": [
    "## Conclusions\n",
    "\n",
    "- overall churn rate of 26.57%\n",
    "- contract type - Month-to-month has the highest rate of churn (42.93%)\n",
    "- internet service type - Fiber optic has the highest rate of churn (41.89%)\n",
    "- auto pay - manual_pay has the highest rate of churn (15.23%)\n",
    "- tenure - majority of churn occurs with tenure less than 30 months\n",
    "\n",
    "## Key Takeaways\n",
    "\n",
    "- using the combination of the top 6 variables by correlation created a well-fit models\n",
    "-- focus on these areas has the largest potential to impact churn\n",
    "- best fit model(LogisticRegression) was able to predict churn at a higher rate than the baseline\n",
    "\n",
    "## Recommendations\n",
    "\n",
    "- offer incentives to get more customers to convert to either a contract and/or use auto-pay\n",
    "- investigate cause of churn for fiber optic service customers\n",
    "-- is it quality of service(stability, speed, etc), cost(overall, value), customer support(tech, device)?\n",
    "-- is there a relation to support, online and/or streaming services related to fiber optic service?\n",
    "- investigate further into churn of fiber optic customers and at what point they churn"
   ]
  },
  {
   "cell_type": "code",
   "execution_count": null,
   "metadata": {},
   "outputs": [],
   "source": []
  }
 ],
 "metadata": {
  "kernelspec": {
   "display_name": "Python 3",
   "language": "python",
   "name": "python3"
  },
  "language_info": {
   "codemirror_mode": {
    "name": "ipython",
    "version": 3
   },
   "file_extension": ".py",
   "mimetype": "text/x-python",
   "name": "python",
   "nbconvert_exporter": "python",
   "pygments_lexer": "ipython3",
   "version": "3.8.5"
  }
 },
 "nbformat": 4,
 "nbformat_minor": 4
}
